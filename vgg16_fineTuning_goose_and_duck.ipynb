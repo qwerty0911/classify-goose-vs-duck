{
 "cells": [
  {
   "cell_type": "code",
   "execution_count": 45,
   "id": "101b46f4",
   "metadata": {},
   "outputs": [],
   "source": [
    "import os\n",
    "\n",
    "base_dir = './datasets/goose_and_duck_small'\n",
    "train_dir = os.path.join(base_dir,'train')\n",
    "validation_dir = os.path.join(base_dir,'validation')\n",
    "test_dir = os.path.join(base_dir,'test')"
   ]
  },
  {
   "cell_type": "code",
   "execution_count": 46,
   "id": "e82b655b",
   "metadata": {
    "scrolled": true
   },
   "outputs": [
    {
     "name": "stdout",
     "output_type": "stream",
     "text": [
      "Model: \"sequential_3\"\n",
      "_________________________________________________________________\n",
      "Layer (type)                 Output Shape              Param #   \n",
      "=================================================================\n",
      "vgg16 (Functional)           (None, 4, 4, 512)         14714688  \n",
      "_________________________________________________________________\n",
      "flatten_3 (Flatten)          (None, 8192)              0         \n",
      "_________________________________________________________________\n",
      "dense_6 (Dense)              (None, 256)               2097408   \n",
      "_________________________________________________________________\n",
      "dense_7 (Dense)              (None, 1)                 257       \n",
      "=================================================================\n",
      "Total params: 16,812,353\n",
      "Trainable params: 16,812,353\n",
      "Non-trainable params: 0\n",
      "_________________________________________________________________\n"
     ]
    }
   ],
   "source": [
    "from tensorflow import keras\n",
    "from keras import models\n",
    "from keras import layers\n",
    "from keras.applications.vgg16 import VGG16\n",
    "\n",
    "conv_base = VGG16(weights = 'imagenet',include_top=False, input_shape=(150,150,3))\n",
    "\n",
    "model = models.Sequential()\n",
    "model.add(conv_base)\n",
    "model.add(layers.Flatten())\n",
    "model.add(layers.Dense(256,activation='relu'))\n",
    "model.add(layers.Dense(1,activation='sigmoid'))\n",
    "\n",
    "model.summary()"
   ]
  },
  {
   "cell_type": "code",
   "execution_count": 47,
   "id": "7dc86c20",
   "metadata": {
    "scrolled": true
   },
   "outputs": [
    {
     "name": "stdout",
     "output_type": "stream",
     "text": [
      "input_4 False\n",
      "block1_conv1 False\n",
      "block1_conv2 False\n",
      "block1_pool False\n",
      "block2_conv1 False\n",
      "block2_conv2 False\n",
      "block2_pool False\n",
      "block3_conv1 False\n",
      "block3_conv2 False\n",
      "block3_conv3 False\n",
      "block3_pool False\n",
      "block4_conv1 False\n",
      "block4_conv2 False\n",
      "block4_conv3 False\n",
      "block4_pool False\n",
      "block5_conv1 False\n",
      "block5_conv2 False\n",
      "block5_conv3 False\n",
      "block5_pool False\n"
     ]
    }
   ],
   "source": [
    "conv_base.trainable = False\n",
    "\n",
    "\n",
    "for _, layer in enumerate(conv_base.layers):\n",
    "    print(layer.name, layer.trainable)"
   ]
  },
  {
   "cell_type": "code",
   "execution_count": 49,
   "id": "f0bbf40b",
   "metadata": {},
   "outputs": [
    {
     "name": "stdout",
     "output_type": "stream",
     "text": [
      "Found 100 images belonging to 2 classes.\n",
      "Found 50 images belonging to 2 classes.\n"
     ]
    }
   ],
   "source": [
    "from keras.preprocessing.image import ImageDataGenerator\n",
    "from tensorflow.keras import optimizers\n",
    "\n",
    "train_datagen = ImageDataGenerator(rescale=1./255,rotation_range=15,\n",
    "                                  width_shift_range=0.1,\n",
    "                                  height_shift_range=0.1,\n",
    "                                  shear_range=0.1,\n",
    "                                  zoom_range=0.1,\n",
    "                                  horizontal_flip=True,\n",
    "                                  fill_mode='nearest')\n",
    "\n",
    "\n",
    "test_datagen = ImageDataGenerator(rescale=1.0/255)\n",
    "\n",
    "train_generator = train_datagen.flow_from_directory(\n",
    "    train_dir,\n",
    "    target_size=(150,150),\n",
    "    batch_size=16,\n",
    "    class_mode='binary')\n",
    "\n",
    "validation_generator = test_datagen.flow_from_directory(\n",
    "    validation_dir,\n",
    "    target_size=(150,150),\n",
    "    batch_size=16,\n",
    "    class_mode='binary')\n",
    "\n",
    "model.compile(loss='binary_crossentropy',\n",
    "             optimizer=optimizers.RMSprop(learning_rate=1e-5),\n",
    "             metrics=['acc'])\n",
    "\n",
    "history = model.fit(\n",
    "train_generator,\n",
    "epochs=30,\n",
    "validation_data=validation_generator\n",
    ")"
   ]
  },
  {
   "cell_type": "code",
   "execution_count": 50,
   "id": "993dd7c7",
   "metadata": {},
   "outputs": [
    {
     "name": "stdout",
     "output_type": "stream",
     "text": [
      "Epoch 1/30\n",
      "7/7 [==============================] - 3s 195ms/step - loss: 0.6921 - acc: 0.5700 - val_loss: 0.6726 - val_acc: 0.5600\n",
      "Epoch 2/30\n",
      "7/7 [==============================] - 1s 90ms/step - loss: 0.6372 - acc: 0.6200 - val_loss: 0.6440 - val_acc: 0.6000\n",
      "Epoch 3/30\n",
      "7/7 [==============================] - 1s 94ms/step - loss: 0.5856 - acc: 0.7000 - val_loss: 0.6166 - val_acc: 0.6800\n",
      "Epoch 4/30\n",
      "7/7 [==============================] - 1s 103ms/step - loss: 0.5638 - acc: 0.7800 - val_loss: 0.5963 - val_acc: 0.6800\n",
      "Epoch 5/30\n",
      "7/7 [==============================] - 1s 104ms/step - loss: 0.5350 - acc: 0.8100 - val_loss: 0.5754 - val_acc: 0.7800\n",
      "Epoch 6/30\n",
      "7/7 [==============================] - 1s 89ms/step - loss: 0.4909 - acc: 0.8700 - val_loss: 0.5610 - val_acc: 0.7600\n",
      "Epoch 7/30\n",
      "7/7 [==============================] - 1s 90ms/step - loss: 0.4980 - acc: 0.8400 - val_loss: 0.5464 - val_acc: 0.7600\n",
      "Epoch 8/30\n",
      "7/7 [==============================] - 1s 94ms/step - loss: 0.4770 - acc: 0.8400 - val_loss: 0.5293 - val_acc: 0.7400\n",
      "Epoch 9/30\n",
      "7/7 [==============================] - 1s 90ms/step - loss: 0.4775 - acc: 0.9100 - val_loss: 0.5059 - val_acc: 0.8000\n",
      "Epoch 10/30\n",
      "7/7 [==============================] - 1s 95ms/step - loss: 0.4298 - acc: 0.8600 - val_loss: 0.4961 - val_acc: 0.8000\n",
      "Epoch 11/30\n",
      "7/7 [==============================] - 1s 95ms/step - loss: 0.4280 - acc: 0.9000 - val_loss: 0.4933 - val_acc: 0.7400\n",
      "Epoch 12/30\n",
      "7/7 [==============================] - 1s 95ms/step - loss: 0.4070 - acc: 0.9100 - val_loss: 0.4804 - val_acc: 0.7800\n",
      "Epoch 13/30\n",
      "7/7 [==============================] - 1s 94ms/step - loss: 0.4029 - acc: 0.8900 - val_loss: 0.4574 - val_acc: 0.8400\n",
      "Epoch 14/30\n",
      "7/7 [==============================] - 1s 94ms/step - loss: 0.4030 - acc: 0.8400 - val_loss: 0.4494 - val_acc: 0.8400\n",
      "Epoch 15/30\n",
      "7/7 [==============================] - 1s 90ms/step - loss: 0.3751 - acc: 0.9300 - val_loss: 0.4406 - val_acc: 0.8400\n",
      "Epoch 16/30\n",
      "7/7 [==============================] - 1s 93ms/step - loss: 0.3401 - acc: 0.9400 - val_loss: 0.4298 - val_acc: 0.8200\n",
      "Epoch 17/30\n",
      "7/7 [==============================] - 1s 93ms/step - loss: 0.3337 - acc: 0.9400 - val_loss: 0.4260 - val_acc: 0.8600\n",
      "Epoch 18/30\n",
      "7/7 [==============================] - 1s 94ms/step - loss: 0.3488 - acc: 0.8900 - val_loss: 0.4186 - val_acc: 0.8400\n",
      "Epoch 19/30\n",
      "7/7 [==============================] - 1s 94ms/step - loss: 0.3151 - acc: 0.9300 - val_loss: 0.4175 - val_acc: 0.8600\n",
      "Epoch 20/30\n",
      "7/7 [==============================] - 1s 93ms/step - loss: 0.3049 - acc: 0.9600 - val_loss: 0.4035 - val_acc: 0.8400\n",
      "Epoch 21/30\n",
      "7/7 [==============================] - 1s 103ms/step - loss: 0.2942 - acc: 0.9300 - val_loss: 0.4064 - val_acc: 0.8400\n",
      "Epoch 22/30\n",
      "7/7 [==============================] - 1s 96ms/step - loss: 0.2935 - acc: 0.9500 - val_loss: 0.3899 - val_acc: 0.8200\n",
      "Epoch 23/30\n",
      "7/7 [==============================] - 1s 98ms/step - loss: 0.2904 - acc: 0.9300 - val_loss: 0.3831 - val_acc: 0.8400\n",
      "Epoch 24/30\n",
      "7/7 [==============================] - 1s 99ms/step - loss: 0.2783 - acc: 0.9400 - val_loss: 0.3743 - val_acc: 0.8400\n",
      "Epoch 25/30\n",
      "7/7 [==============================] - 1s 99ms/step - loss: 0.2750 - acc: 0.9200 - val_loss: 0.3741 - val_acc: 0.8400\n",
      "Epoch 26/30\n",
      "7/7 [==============================] - 1s 94ms/step - loss: 0.2597 - acc: 0.9300 - val_loss: 0.3820 - val_acc: 0.8400\n",
      "Epoch 27/30\n",
      "7/7 [==============================] - 1s 93ms/step - loss: 0.2602 - acc: 0.9300 - val_loss: 0.3659 - val_acc: 0.8800\n",
      "Epoch 28/30\n",
      "7/7 [==============================] - 1s 102ms/step - loss: 0.2532 - acc: 0.9700 - val_loss: 0.3687 - val_acc: 0.8600\n",
      "Epoch 29/30\n",
      "7/7 [==============================] - 1s 102ms/step - loss: 0.2231 - acc: 0.9800 - val_loss: 0.3574 - val_acc: 0.8400\n",
      "Epoch 30/30\n",
      "7/7 [==============================] - 1s 95ms/step - loss: 0.2271 - acc: 0.9400 - val_loss: 0.3587 - val_acc: 0.8600\n"
     ]
    }
   ],
   "source": []
  },
  {
   "cell_type": "code",
   "execution_count": 52,
   "id": "5aaefdf7",
   "metadata": {},
   "outputs": [
    {
     "data": {
      "image/png": "[encoded data removed]",
      "text/plain": [
       "<Figure size 432x288 with 1 Axes>"
      ]
     },
     "metadata": {
      "needs_background": "light"
     },
     "output_type": "display_data"
    },
    {
     "data": {
      "image/png": "[encoded data removed]",
      "text/plain": [
       "<Figure size 432x288 with 1 Axes>"
      ]
     },
     "metadata": {
      "needs_background": "light"
     },
     "output_type": "display_data"
    }
   ],
   "source": [
    "import matplotlib.pyplot as plt\n",
    "\n",
    "acc = history.history['acc']\n",
    "val_acc = history.history['val_acc']\n",
    "loss = history.history['loss']\n",
    "val_loss = history.history['val_loss']\n",
    "\n",
    "epochs = range(1,len(acc)+1)\n",
    "\n",
    "plt.plot(epochs,acc,'bo',label='Training acc')\n",
    "plt.plot(epochs,val_acc,'b',label='Validation acc')\n",
    "plt.title('Traing and validation accuracy')\n",
    "plt.legend()\n",
    "\n",
    "plt.figure()\n",
    "\n",
    "plt.plot(epochs,loss,'bo',label = 'Traing loss')\n",
    "plt.plot(epochs,val_loss,'b',label='Validation loss')\n",
    "plt.title('Training and Validation loss')\n",
    "plt.legend()\n",
    "\n",
    "plt.show()"
   ]
  },
  {
   "cell_type": "code",
   "execution_count": 54,
   "id": "682b702f",
   "metadata": {},
   "outputs": [
    {
     "name": "stdout",
     "output_type": "stream",
     "text": [
      "0 input_4 False\n",
      "1 block1_conv1 False\n",
      "2 block1_conv2 False\n",
      "3 block1_pool False\n",
      "4 block2_conv1 False\n",
      "5 block2_conv2 False\n",
      "6 block2_pool False\n",
      "7 block3_conv1 False\n",
      "8 block3_conv2 False\n",
      "9 block3_conv3 False\n",
      "10 block3_pool False\n",
      "11 block4_conv1 False\n",
      "12 block4_conv2 False\n",
      "13 block4_conv3 False\n",
      "14 block4_pool False\n",
      "15 block5_conv1 True\n",
      "16 block5_conv2 True\n",
      "17 block5_conv3 True\n",
      "18 block5_pool True\n"
     ]
    }
   ],
   "source": [
    "conv_base.trainable = True\n",
    "\n",
    "set_trainable = False\n",
    "for layer in conv_base.layers:\n",
    "    if layer.name == 'block5_conv1':\n",
    "        set_trainable = True\n",
    "    if set_trainable:\n",
    "        layer.trainable  = True\n",
    "    else:\n",
    "        layer.trainable = False\n",
    "\n",
    "for i, layer in enumerate(conv_base.layers):\n",
    "    print(i, layer.name, layer.trainable)"
   ]
  },
  {
   "cell_type": "code",
   "execution_count": 55,
   "id": "0da4a7a1",
   "metadata": {
    "scrolled": false
   },
   "outputs": [
    {
     "name": "stdout",
     "output_type": "stream",
     "text": [
      "Epoch 1/100\n",
      "7/7 [==============================] - 2s 130ms/step - loss: 0.2095 - acc: 0.9300 - val_loss: 0.2903 - val_acc: 0.8600\n",
      "Epoch 2/100\n",
      "7/7 [==============================] - 1s 97ms/step - loss: 0.1194 - acc: 0.9900 - val_loss: 0.2729 - val_acc: 0.8400\n",
      "Epoch 3/100\n",
      "7/7 [==============================] - 1s 97ms/step - loss: 0.0909 - acc: 0.9800 - val_loss: 0.2595 - val_acc: 0.8600\n",
      "Epoch 4/100\n",
      "7/7 [==============================] - 1s 96ms/step - loss: 0.0864 - acc: 0.9800 - val_loss: 0.3044 - val_acc: 0.9000\n",
      "Epoch 5/100\n",
      "7/7 [==============================] - 1s 92ms/step - loss: 0.0686 - acc: 1.0000 - val_loss: 0.2739 - val_acc: 0.8800\n",
      "Epoch 6/100\n",
      "7/7 [==============================] - 1s 96ms/step - loss: 0.0494 - acc: 0.9900 - val_loss: 0.2879 - val_acc: 0.9000\n",
      "Epoch 7/100\n",
      "7/7 [==============================] - 1s 106ms/step - loss: 0.0464 - acc: 1.0000 - val_loss: 0.2944 - val_acc: 0.8600\n",
      "Epoch 8/100\n",
      "7/7 [==============================] - 1s 93ms/step - loss: 0.0486 - acc: 0.9900 - val_loss: 0.2830 - val_acc: 0.9000\n",
      "Epoch 9/100\n",
      "7/7 [==============================] - 1s 92ms/step - loss: 0.0260 - acc: 1.0000 - val_loss: 0.2682 - val_acc: 0.8600\n",
      "Epoch 10/100\n",
      "7/7 [==============================] - 1s 103ms/step - loss: 0.0268 - acc: 1.0000 - val_loss: 0.2850 - val_acc: 0.9000\n",
      "Epoch 11/100\n",
      "7/7 [==============================] - 1s 102ms/step - loss: 0.0368 - acc: 0.9900 - val_loss: 0.3152 - val_acc: 0.9000\n",
      "Epoch 12/100\n",
      "7/7 [==============================] - 1s 99ms/step - loss: 0.0406 - acc: 0.9800 - val_loss: 0.2890 - val_acc: 0.9000\n",
      "Epoch 13/100\n",
      "7/7 [==============================] - 1s 100ms/step - loss: 0.0141 - acc: 1.0000 - val_loss: 0.2854 - val_acc: 0.8600\n",
      "Epoch 14/100\n",
      "7/7 [==============================] - 1s 100ms/step - loss: 0.0092 - acc: 1.0000 - val_loss: 0.2859 - val_acc: 0.8800\n",
      "Epoch 15/100\n",
      "7/7 [==============================] - 1s 99ms/step - loss: 0.0172 - acc: 1.0000 - val_loss: 0.3961 - val_acc: 0.9000\n",
      "Epoch 16/100\n",
      "7/7 [==============================] - 1s 92ms/step - loss: 0.0122 - acc: 1.0000 - val_loss: 0.5321 - val_acc: 0.8200\n",
      "Epoch 17/100\n",
      "7/7 [==============================] - 1s 96ms/step - loss: 0.0080 - acc: 1.0000 - val_loss: 0.3059 - val_acc: 0.8800\n",
      "Epoch 18/100\n",
      "7/7 [==============================] - 1s 97ms/step - loss: 0.0138 - acc: 1.0000 - val_loss: 0.3090 - val_acc: 0.8800\n",
      "Epoch 19/100\n",
      "7/7 [==============================] - 1s 105ms/step - loss: 0.0052 - acc: 1.0000 - val_loss: 0.2980 - val_acc: 0.8800\n",
      "Epoch 20/100\n",
      "7/7 [==============================] - 1s 92ms/step - loss: 0.0049 - acc: 1.0000 - val_loss: 0.2994 - val_acc: 0.8600\n",
      "Epoch 21/100\n",
      "7/7 [==============================] - 1s 93ms/step - loss: 0.0057 - acc: 1.0000 - val_loss: 0.3123 - val_acc: 0.8800\n",
      "Epoch 22/100\n",
      "7/7 [==============================] - 1s 96ms/step - loss: 0.0083 - acc: 1.0000 - val_loss: 0.3263 - val_acc: 0.8600\n",
      "Epoch 23/100\n",
      "7/7 [==============================] - 1s 96ms/step - loss: 0.0138 - acc: 1.0000 - val_loss: 0.2955 - val_acc: 0.8800\n",
      "Epoch 24/100\n",
      "7/7 [==============================] - 1s 97ms/step - loss: 0.0048 - acc: 1.0000 - val_loss: 0.4166 - val_acc: 0.9000\n",
      "Epoch 25/100\n",
      "7/7 [==============================] - 1s 95ms/step - loss: 0.0063 - acc: 1.0000 - val_loss: 0.2998 - val_acc: 0.8800\n",
      "Epoch 26/100\n",
      "7/7 [==============================] - 1s 92ms/step - loss: 0.0021 - acc: 1.0000 - val_loss: 0.3052 - val_acc: 0.9000\n",
      "Epoch 27/100\n",
      "7/7 [==============================] - 1s 99ms/step - loss: 0.0021 - acc: 1.0000 - val_loss: 0.2919 - val_acc: 0.8800\n",
      "Epoch 28/100\n",
      "7/7 [==============================] - 1s 96ms/step - loss: 0.0023 - acc: 1.0000 - val_loss: 0.2919 - val_acc: 0.9000\n",
      "Epoch 29/100\n",
      "7/7 [==============================] - 1s 95ms/step - loss: 0.0013 - acc: 1.0000 - val_loss: 0.3047 - val_acc: 0.8800\n",
      "Epoch 30/100\n",
      "7/7 [==============================] - 1s 93ms/step - loss: 0.0011 - acc: 1.0000 - val_loss: 0.3203 - val_acc: 0.8800\n",
      "Epoch 31/100\n",
      "7/7 [==============================] - 1s 103ms/step - loss: 0.0031 - acc: 1.0000 - val_loss: 0.5152 - val_acc: 0.8600\n",
      "Epoch 32/100\n",
      "7/7 [==============================] - 1s 95ms/step - loss: 0.0010 - acc: 1.0000 - val_loss: 0.3553 - val_acc: 0.8800\n",
      "Epoch 33/100\n",
      "7/7 [==============================] - 1s 95ms/step - loss: 7.4436e-04 - acc: 1.0000 - val_loss: 0.3522 - val_acc: 0.8800\n",
      "Epoch 34/100\n",
      "7/7 [==============================] - 1s 91ms/step - loss: 5.0073e-04 - acc: 1.0000 - val_loss: 0.3469 - val_acc: 0.8800\n",
      "Epoch 35/100\n",
      "7/7 [==============================] - 1s 101ms/step - loss: 5.7335e-04 - acc: 1.0000 - val_loss: 0.3887 - val_acc: 0.9200\n",
      "Epoch 36/100\n",
      "7/7 [==============================] - 1s 99ms/step - loss: 2.4975e-04 - acc: 1.0000 - val_loss: 0.3931 - val_acc: 0.9000\n",
      "Epoch 37/100\n",
      "7/7 [==============================] - 1s 97ms/step - loss: 0.0081 - acc: 1.0000 - val_loss: 0.3743 - val_acc: 0.8800\n",
      "Epoch 38/100\n",
      "7/7 [==============================] - 1s 102ms/step - loss: 3.2558e-04 - acc: 1.0000 - val_loss: 0.3859 - val_acc: 0.9000\n",
      "Epoch 39/100\n",
      "7/7 [==============================] - 1s 97ms/step - loss: 6.0624e-04 - acc: 1.0000 - val_loss: 0.3814 - val_acc: 0.8800\n",
      "Epoch 40/100\n",
      "7/7 [==============================] - 1s 98ms/step - loss: 2.4033e-04 - acc: 1.0000 - val_loss: 0.3859 - val_acc: 0.8800\n",
      "Epoch 41/100\n",
      "7/7 [==============================] - 1s 100ms/step - loss: 1.8821e-04 - acc: 1.0000 - val_loss: 0.3878 - val_acc: 0.8800\n",
      "Epoch 42/100\n",
      "7/7 [==============================] - 1s 99ms/step - loss: 2.1243e-04 - acc: 1.0000 - val_loss: 0.3956 - val_acc: 0.9000\n",
      "Epoch 43/100\n",
      "7/7 [==============================] - 1s 97ms/step - loss: 1.5397e-04 - acc: 1.0000 - val_loss: 0.4229 - val_acc: 0.9000\n",
      "Epoch 44/100\n",
      "7/7 [==============================] - 1s 98ms/step - loss: 4.5542e-04 - acc: 1.0000 - val_loss: 0.4141 - val_acc: 0.9000\n",
      "Epoch 45/100\n",
      "7/7 [==============================] - 1s 102ms/step - loss: 1.5286e-04 - acc: 1.0000 - val_loss: 0.4125 - val_acc: 0.9000\n",
      "Epoch 46/100\n",
      "7/7 [==============================] - 1s 98ms/step - loss: 9.7589e-05 - acc: 1.0000 - val_loss: 0.4256 - val_acc: 0.9000\n",
      "Epoch 47/100\n",
      "7/7 [==============================] - 1s 98ms/step - loss: 1.2151e-04 - acc: 1.0000 - val_loss: 0.4186 - val_acc: 0.8800\n",
      "Epoch 48/100\n",
      "7/7 [==============================] - 1s 92ms/step - loss: 5.0769e-05 - acc: 1.0000 - val_loss: 0.4566 - val_acc: 0.9200\n",
      "Epoch 49/100\n",
      "7/7 [==============================] - 1s 107ms/step - loss: 9.3922e-05 - acc: 1.0000 - val_loss: 0.5419 - val_acc: 0.9000\n",
      "Epoch 50/100\n",
      "7/7 [==============================] - 1s 102ms/step - loss: 0.0041 - acc: 1.0000 - val_loss: 0.6174 - val_acc: 0.8800\n",
      "Epoch 51/100\n",
      "7/7 [==============================] - 1s 97ms/step - loss: 2.2551e-04 - acc: 1.0000 - val_loss: 0.4566 - val_acc: 0.9200\n",
      "Epoch 52/100\n",
      "7/7 [==============================] - 1s 92ms/step - loss: 4.4078e-04 - acc: 1.0000 - val_loss: 0.4120 - val_acc: 0.9000\n",
      "Epoch 53/100\n",
      "7/7 [==============================] - 1s 103ms/step - loss: 5.8965e-05 - acc: 1.0000 - val_loss: 0.4056 - val_acc: 0.9000\n",
      "Epoch 54/100\n",
      "7/7 [==============================] - 1s 97ms/step - loss: 3.2764e-05 - acc: 1.0000 - val_loss: 0.4048 - val_acc: 0.9000\n",
      "Epoch 55/100\n",
      "7/7 [==============================] - 1s 97ms/step - loss: 2.2893e-05 - acc: 1.0000 - val_loss: 0.4052 - val_acc: 0.9000\n",
      "Epoch 56/100\n",
      "7/7 [==============================] - 1s 97ms/step - loss: 3.7607e-05 - acc: 1.0000 - val_loss: 0.4086 - val_acc: 0.9000\n",
      "Epoch 57/100\n",
      "7/7 [==============================] - 1s 94ms/step - loss: 9.2170e-05 - acc: 1.0000 - val_loss: 0.4157 - val_acc: 0.8800\n",
      "Epoch 58/100\n",
      "7/7 [==============================] - 1s 95ms/step - loss: 5.6630e-05 - acc: 1.0000 - val_loss: 0.4201 - val_acc: 0.8600\n",
      "Epoch 59/100\n",
      "7/7 [==============================] - 1s 101ms/step - loss: 2.8706e-04 - acc: 1.0000 - val_loss: 0.4350 - val_acc: 0.9000\n",
      "Epoch 60/100\n",
      "7/7 [==============================] - 1s 112ms/step - loss: 3.4430e-05 - acc: 1.0000 - val_loss: 0.4381 - val_acc: 0.9000\n",
      "Epoch 61/100\n",
      "7/7 [==============================] - 1s 98ms/step - loss: 1.2209e-05 - acc: 1.0000 - val_loss: 0.4413 - val_acc: 0.9000\n",
      "Epoch 62/100\n"
     ]
    },
    {
     "name": "stdout",
     "output_type": "stream",
     "text": [
      "7/7 [==============================] - 1s 91ms/step - loss: 1.4484e-05 - acc: 1.0000 - val_loss: 0.4534 - val_acc: 0.9000\n",
      "Epoch 63/100\n",
      "7/7 [==============================] - 1s 115ms/step - loss: 9.8129e-06 - acc: 1.0000 - val_loss: 0.4537 - val_acc: 0.9000\n",
      "Epoch 64/100\n",
      "7/7 [==============================] - 1s 105ms/step - loss: 8.3163e-06 - acc: 1.0000 - val_loss: 0.4594 - val_acc: 0.8800\n",
      "Epoch 65/100\n",
      "7/7 [==============================] - 1s 101ms/step - loss: 4.8694e-05 - acc: 1.0000 - val_loss: 0.4614 - val_acc: 0.9000\n",
      "Epoch 66/100\n",
      "7/7 [==============================] - 1s 101ms/step - loss: 0.0092 - acc: 1.0000 - val_loss: 0.5431 - val_acc: 0.9000\n",
      "Epoch 67/100\n",
      "7/7 [==============================] - 1s 97ms/step - loss: 1.0109e-04 - acc: 1.0000 - val_loss: 0.4974 - val_acc: 0.8800\n",
      "Epoch 68/100\n",
      "7/7 [==============================] - 1s 104ms/step - loss: 1.8387e-04 - acc: 1.0000 - val_loss: 0.4433 - val_acc: 0.9000\n",
      "Epoch 69/100\n",
      "7/7 [==============================] - 1s 97ms/step - loss: 3.9517e-05 - acc: 1.0000 - val_loss: 0.4278 - val_acc: 0.9000\n",
      "Epoch 70/100\n",
      "7/7 [==============================] - 1s 99ms/step - loss: 2.5285e-05 - acc: 1.0000 - val_loss: 0.4230 - val_acc: 0.9000\n",
      "Epoch 71/100\n",
      "7/7 [==============================] - 1s 97ms/step - loss: 1.9401e-05 - acc: 1.0000 - val_loss: 0.4199 - val_acc: 0.9000\n",
      "Epoch 72/100\n",
      "7/7 [==============================] - 1s 102ms/step - loss: 1.7766e-05 - acc: 1.0000 - val_loss: 0.4213 - val_acc: 0.9000\n",
      "Epoch 73/100\n",
      "7/7 [==============================] - 1s 99ms/step - loss: 7.2964e-06 - acc: 1.0000 - val_loss: 0.4200 - val_acc: 0.9000\n",
      "Epoch 74/100\n",
      "7/7 [==============================] - 1s 104ms/step - loss: 4.5419e-06 - acc: 1.0000 - val_loss: 0.4215 - val_acc: 0.9000\n",
      "Epoch 75/100\n",
      "7/7 [==============================] - 1s 97ms/step - loss: 1.3852e-05 - acc: 1.0000 - val_loss: 0.4318 - val_acc: 0.9000\n",
      "Epoch 76/100\n",
      "7/7 [==============================] - 1s 93ms/step - loss: 1.2303e-05 - acc: 1.0000 - val_loss: 0.4533 - val_acc: 0.9000\n",
      "Epoch 77/100\n",
      "7/7 [==============================] - 1s 96ms/step - loss: 6.8533e-06 - acc: 1.0000 - val_loss: 0.4548 - val_acc: 0.9200\n",
      "Epoch 78/100\n",
      "7/7 [==============================] - 1s 92ms/step - loss: 7.9167e-06 - acc: 1.0000 - val_loss: 0.4549 - val_acc: 0.9000\n",
      "Epoch 79/100\n",
      "7/7 [==============================] - 1s 97ms/step - loss: 0.0011 - acc: 1.0000 - val_loss: 0.5784 - val_acc: 0.8800\n",
      "Epoch 80/100\n",
      "7/7 [==============================] - 1s 97ms/step - loss: 1.3282e-05 - acc: 1.0000 - val_loss: 0.5360 - val_acc: 0.9000\n",
      "Epoch 81/100\n",
      "7/7 [==============================] - 1s 99ms/step - loss: 3.4379e-05 - acc: 1.0000 - val_loss: 0.4685 - val_acc: 0.9000\n",
      "Epoch 82/100\n",
      "7/7 [==============================] - 1s 97ms/step - loss: 1.0230e-05 - acc: 1.0000 - val_loss: 0.4550 - val_acc: 0.9200\n",
      "Epoch 83/100\n",
      "7/7 [==============================] - 1s 103ms/step - loss: 5.5546e-06 - acc: 1.0000 - val_loss: 0.4608 - val_acc: 0.9000\n",
      "Epoch 84/100\n",
      "7/7 [==============================] - 1s 99ms/step - loss: 4.7737e-06 - acc: 1.0000 - val_loss: 0.4622 - val_acc: 0.9000\n",
      "Epoch 85/100\n",
      "7/7 [==============================] - 1s 98ms/step - loss: 2.9959e-05 - acc: 1.0000 - val_loss: 0.4549 - val_acc: 0.9000\n",
      "Epoch 86/100\n",
      "7/7 [==============================] - 1s 106ms/step - loss: 5.5727e-06 - acc: 1.0000 - val_loss: 0.4608 - val_acc: 0.9000\n",
      "Epoch 87/100\n",
      "7/7 [==============================] - 1s 107ms/step - loss: 1.9539e-05 - acc: 1.0000 - val_loss: 0.5044 - val_acc: 0.9000\n",
      "Epoch 88/100\n",
      "7/7 [==============================] - 1s 98ms/step - loss: 1.2982e-06 - acc: 1.0000 - val_loss: 0.5033 - val_acc: 0.9000\n",
      "Epoch 89/100\n",
      "7/7 [==============================] - 1s 99ms/step - loss: 9.8074e-06 - acc: 1.0000 - val_loss: 0.5193 - val_acc: 0.9000\n",
      "Epoch 90/100\n",
      "7/7 [==============================] - 1s 98ms/step - loss: 0.0055 - acc: 1.0000 - val_loss: 0.6756 - val_acc: 0.8800\n",
      "Epoch 91/100\n",
      "7/7 [==============================] - 1s 92ms/step - loss: 3.7492e-05 - acc: 1.0000 - val_loss: 0.6575 - val_acc: 0.8800\n",
      "Epoch 92/100\n",
      "7/7 [==============================] - 1s 95ms/step - loss: 8.1528e-06 - acc: 1.0000 - val_loss: 0.6508 - val_acc: 0.8800\n",
      "Epoch 93/100\n",
      "7/7 [==============================] - 1s 100ms/step - loss: 3.1663e-05 - acc: 1.0000 - val_loss: 0.6286 - val_acc: 0.9000\n",
      "Epoch 94/100\n",
      "7/7 [==============================] - 1s 99ms/step - loss: 1.6803e-05 - acc: 1.0000 - val_loss: 0.6101 - val_acc: 0.9000\n",
      "Epoch 95/100\n",
      "7/7 [==============================] - 1s 107ms/step - loss: 2.3143e-05 - acc: 1.0000 - val_loss: 0.5696 - val_acc: 0.9200\n",
      "Epoch 96/100\n",
      "7/7 [==============================] - 1s 99ms/step - loss: 3.6759e-06 - acc: 1.0000 - val_loss: 0.5681 - val_acc: 0.9200\n",
      "Epoch 97/100\n",
      "7/7 [==============================] - 1s 104ms/step - loss: 9.6095e-06 - acc: 1.0000 - val_loss: 0.5485 - val_acc: 0.9000\n",
      "Epoch 98/100\n",
      "7/7 [==============================] - 1s 100ms/step - loss: 2.0815e-06 - acc: 1.0000 - val_loss: 0.5444 - val_acc: 0.9000\n",
      "Epoch 99/100\n",
      "7/7 [==============================] - 1s 102ms/step - loss: 2.1926e-06 - acc: 1.0000 - val_loss: 0.5387 - val_acc: 0.9000\n",
      "Epoch 100/100\n",
      "7/7 [==============================] - 1s 99ms/step - loss: 5.1443e-06 - acc: 1.0000 - val_loss: 0.5405 - val_acc: 0.9000\n"
     ]
    }
   ],
   "source": [
    "model.compile(loss='binary_crossentropy',\n",
    "             optimizer=optimizers.RMSprop(learning_rate=1e-5),\n",
    "             metrics=['acc'])\n",
    "\n",
    "history = model.fit(\n",
    "train_generator,\n",
    "epochs=100,\n",
    "validation_data=validation_generator)"
   ]
  },
  {
   "cell_type": "code",
   "execution_count": 56,
   "id": "c07e4dda",
   "metadata": {},
   "outputs": [
    {
     "data": {
      "image/png": "[encoded data removed]",
      "text/plain": [
       "<Figure size 432x288 with 1 Axes>"
      ]
     },
     "metadata": {
      "needs_background": "light"
     },
     "output_type": "display_data"
    },
    {
     "data": {
      "image/png": "[encoded data removed]",
      "text/plain": [
       "<Figure size 432x288 with 1 Axes>"
      ]
     },
     "metadata": {
      "needs_background": "light"
     },
     "output_type": "display_data"
    }
   ],
   "source": [
    "acc = history.history['acc']\n",
    "val_acc = history.history['val_acc']\n",
    "loss = history.history['loss']\n",
    "val_loss = history.history['val_loss']\n",
    "\n",
    "epochs = range(1,len(acc)+1)\n",
    "\n",
    "plt.plot(epochs,acc,'bo',label='Training acc')\n",
    "plt.plot(epochs,val_acc,'b',label='Validation acc')\n",
    "plt.title('Traing and validation accuracy')\n",
    "plt.legend()\n",
    "\n",
    "plt.figure()\n",
    "\n",
    "plt.plot(epochs,loss,'bo',label = 'Traing loss')\n",
    "plt.plot(epochs,val_loss,'b',label='Validation loss')\n",
    "plt.title('Training and Validation loss')\n",
    "plt.legend()\n",
    "\n",
    "plt.show()"
   ]
  },
  {
   "cell_type": "code",
   "execution_count": 41,
   "id": "eca211ef",
   "metadata": {},
   "outputs": [
    {
     "name": "stdout",
     "output_type": "stream",
     "text": [
      "Found 50 images belonging to 2 classes.\n",
      " 2/50 [>.............................] - ETA: 3s - loss: 0.4373 - acc: 0.9000 WARNING:tensorflow:Your input ran out of data; interrupting training. Make sure that your dataset or generator can generate at least `steps_per_epoch * epochs` batches (in this case, 50 batches). You may need to use the repeat() function when building your dataset.\n",
      "50/50 [==============================] - 0s 2ms/step - loss: 0.4373 - acc: 0.9000\n",
      "test acc: 0.8999999761581421\n"
     ]
    }
   ],
   "source": [
    "test_generator = test_datagen.flow_from_directory(\n",
    "test_dir, target_size=(150,150),\n",
    "# batch_size=20,\n",
    "class_mode='binary')\n",
    "\n",
    "test_loss, test_acc = model.evaluate(test_generator, steps=50)\n",
    "print('test acc:',test_acc)\n"
   ]
  },
  {
   "cell_type": "code",
   "execution_count": null,
   "id": "cb3cfbeb",
   "metadata": {},
   "outputs": [],
   "source": []
  }
 ],
 "metadata": {
  "kernelspec": {
   "display_name": "kerasGPU",
   "language": "python",
   "name": "kerasgpu"
  },
  "language_info": {
   "codemirror_mode": {
    "name": "ipython",
    "version": 3
   },
   "file_extension": ".py",
   "mimetype": "text/x-python",
   "name": "python",
   "nbconvert_exporter": "python",
   "pygments_lexer": "ipython3",
   "version": "3.9.12"
  }
 },
 "nbformat": 4,
 "nbformat_minor": 5
}
