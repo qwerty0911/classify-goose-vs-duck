{
 "cells": [
  {
   "cell_type": "code",
   "execution_count": 3,
   "id": "dfca141f",
   "metadata": {},
   "outputs": [],
   "source": [
    "import os,shutil\n",
    "original_dataset_dir = './datasets/goose_and_duck/train'\n",
    "base_dir = './datasets/goose_and_duck_small'\n",
    "\n",
    "\n",
    "train_dir = os.path.join(base_dir, 'train')\n",
    "\n",
    "validation_dir = os.path.join(base_dir, 'validation')\n",
    "\n",
    "test_dir = os.path.join(base_dir, 'test')\n",
    "\n",
    "\n",
    "train_goose_dir = os.path.join(train_dir,'goose')\n",
    "\n",
    "\n",
    "train_duck_dir = os.path.join(train_dir,'duck')\n",
    "\n",
    "\n",
    "validation_goose_dir = os.path.join(validation_dir,'goose')\n",
    "\n",
    "\n",
    "validation_duck_dir = os.path.join(validation_dir,'duck')\n",
    "\n",
    "\n",
    "test_goose_dir = os.path.join(test_dir, 'goose')\n",
    "\n",
    "\n",
    "test_duck_dir = os.path.join(test_dir, 'duck')\n",
    "\n",
    "os.mkdir(base_dir)\n",
    "os.mkdir(train_dir)\n",
    "os.mkdir(validation_dir)\n",
    "os.mkdir(test_dir)\n",
    "os.mkdir(train_goose_dir)\n",
    "os.mkdir(train_duck_dir)\n",
    "os.mkdir(validation_goose_dir)\n",
    "os.mkdir(validation_duck_dir)\n",
    "os.mkdir(test_goose_dir)\n",
    "os.mkdir(test_duck_dir)"
   ]
  },
  {
   "cell_type": "code",
   "execution_count": 4,
   "id": "28015244",
   "metadata": {},
   "outputs": [],
   "source": [
    "import os\n",
    "\n",
    "fnames = ['goose.{}.jpg'.format(i) for i  in range(50)]\n",
    "for fname in fnames:\n",
    "    src = os.path.join(original_dataset_dir, fname)\n",
    "    dst = os.path.join(train_goose_dir, fname)\n",
    "    shutil.copyfile(src,dst)\n",
    "    \n",
    "fnames = ['goose.{}.jpg'.format(i) for i  in range(50,75)]\n",
    "for fname in fnames:\n",
    "    src = os.path.join(original_dataset_dir, fname)\n",
    "    dst = os.path.join(validation_goose_dir, fname)\n",
    "    shutil.copyfile(src,dst)\n",
    "    \n",
    "fnames = ['goose.{}.jpg'.format(i) for i  in range(75,100)]\n",
    "for fname in fnames:\n",
    "    src = os.path.join(original_dataset_dir, fname)\n",
    "    dst = os.path.join(test_goose_dir, fname)\n",
    "    shutil.copyfile(src,dst)"
   ]
  },
  {
   "cell_type": "code",
   "execution_count": 6,
   "id": "293b6298",
   "metadata": {},
   "outputs": [],
   "source": [
    "fnames = ['duck.{}.jpg'.format(i) for i  in range(50)]\n",
    "for fname in fnames:\n",
    "    src = os.path.join(original_dataset_dir, fname)\n",
    "    dst = os.path.join(train_duck_dir, fname)\n",
    "    shutil.copyfile(src,dst)\n",
    "    \n",
    "fnames = ['duck.{}.jpg'.format(i) for i  in range(50,75)]\n",
    "for fname in fnames:\n",
    "    src = os.path.join(original_dataset_dir, fname)\n",
    "    dst = os.path.join(validation_duck_dir, fname)\n",
    "    shutil.copyfile(src,dst)\n",
    "    \n",
    "fnames = ['duck.{}.jpg'.format(i) for i  in range(75,100)]\n",
    "for fname in fnames:\n",
    "    src = os.path.join(original_dataset_dir, fname)\n",
    "    dst = os.path.join(test_duck_dir, fname)\n",
    "    shutil.copyfile(src,dst)"
   ]
  },
  {
   "cell_type": "code",
   "execution_count": null,
   "id": "8c0f0aaa",
   "metadata": {},
   "outputs": [],
   "source": []
  },
  {
   "cell_type": "code",
   "execution_count": null,
   "id": "63b81423",
   "metadata": {},
   "outputs": [],
   "source": []
  }
 ],
 "metadata": {
  "kernelspec": {
   "display_name": "kerasGPU",
   "language": "python",
   "name": "kerasgpu"
  },
  "language_info": {
   "codemirror_mode": {
    "name": "ipython",
    "version": 3
   },
   "file_extension": ".py",
   "mimetype": "text/x-python",
   "name": "python",
   "nbconvert_exporter": "python",
   "pygments_lexer": "ipython3",
   "version": "3.9.12"
  }
 },
 "nbformat": 4,
 "nbformat_minor": 5
}
